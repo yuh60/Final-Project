{
 "cells": [
  {
   "cell_type": "markdown",
   "metadata": {
    "collapsed": true
   },
   "source": [
    "##### Equations we used for ternary system in homework (2-D)\n",
    "\n",
    "$a_{x1}=\\frac{(x_2-x_1)}{\\alpha}+\\frac{(x_3-x_1)}{\\beta}$\n",
    "\n",
    "$a_{y1}=\\frac{(y_2-y_1)}{\\alpha}+\\frac{(y_3-y_1)}{\\beta}$\n",
    "\n",
    "$a_{x2}=\\frac{(x_1-x_2)}{\\alpha}+\\frac{(x_3-x_2)}{\\gamma}$\n",
    "\n",
    "$a_{y2}=\\frac{(y_1-y_2)}{\\alpha}+\\frac{(y_3-y_2)}{\\gamma}$\n",
    "\n",
    "$a_{x3}=\\frac{(x_1-x_3)}{\\beta}+\\frac{(x_2-x_3)}{\\gamma}$\n",
    "\n",
    "$a_{y3}=\\frac{(y_1-y_3)}{\\beta}+\\frac{(y_2-y_3)}{\\gamma}$\n",
    "\n",
    "Where,\n",
    "\n",
    "$\\alpha=r_{1,2}^3=[(x_2-x_1) ^2+(y_2-y_1) ^2]^{\\frac{3}{2}}$\n",
    "\n",
    "$\\beta=r_{1,3}^3=[(x_3-x_1) ^2+(y_3-y_1) ^2]^{\\frac{3}{2}}$\n",
    "\n",
    "$\\gamma=r_{2,3}^3=[(x_3-x_2) ^2+(y_3-y_2) ^2]^{\\frac{3}{2}}$"
   ]
  },
  {
   "cell_type": "markdown",
   "metadata": {},
   "source": [
    "##### Equations governing three body problem in 3-D (from Wikipedia)\n",
    "\n",
    "$a_{1}=\\frac{G M_2}{(x_1-x_2)^3}(x_1-x_2)-\\frac{G M_3}{(x_1-x_3)^3}(x_1-x_3)$\n",
    "\n",
    "$a_{2}=\\frac{G M_3}{(x_2-x_3)^3}(x_2-x_3)-\\frac{G M_1}{(x_2-x_1)^3}(x_2-x_1)$\n",
    "\n",
    "$a_{3}=\\frac{G M_1}{(x_3-x_1)^3}(x_3-x_1)-\\frac{G M_2}{(x_3-x_2)^3}(x_3-x_2)$"
   ]
  },
  {
   "cell_type": "markdown",
   "metadata": {},
   "source": [
    "##### n-body problem  (from Wikipedia)\n",
    "\n",
    "$F_{ij}=\\frac{G M_i M_j (r_j-r_i)}{||r_j-r_i||^3}$"
   ]
  },
  {
   "cell_type": "markdown",
   "metadata": {},
   "source": [
    "##### In general, Lagrange points are obtained when: $F_{net}=F_{i_{1}j}+F_{i_{2}j}+F_{i_{3}j}...=\\sum\\limits_{i=1}^n  \\frac{G M_{i} M_j (r_j-r_i)}{||r_j-r_i||^3}=0$"
   ]
  },
  {
   "cell_type": "markdown",
   "metadata": {},
   "source": [
    "##### Website reference for calculating habitable zone: http://www.planetarybiology.com/calculating_habitable_zone.html\n",
    "\n",
    "##### Article about habitable zone and calculations https://www.astro.umd.edu/~miller/teaching/astr380f09/lecture14.pdf"
   ]
  }
 ],
 "metadata": {
  "kernelspec": {
   "display_name": "Python 2",
   "language": "python",
   "name": "python2"
  },
  "language_info": {
   "codemirror_mode": {
    "name": "ipython",
    "version": 2
   },
   "file_extension": ".py",
   "mimetype": "text/x-python",
   "name": "python",
   "nbconvert_exporter": "python",
   "pygments_lexer": "ipython2",
   "version": "2.7.10"
  }
 },
 "nbformat": 4,
 "nbformat_minor": 0
}
